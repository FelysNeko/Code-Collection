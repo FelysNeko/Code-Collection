{
 "cells": [
  {
   "cell_type": "code",
   "execution_count": 1,
   "metadata": {},
   "outputs": [
    {
     "data": {
      "text/plain": [
       "['Arts', 'Engineering', 'Environment', 'Health', 'Mathematics', 'Science']"
      ]
     },
     "execution_count": 1,
     "metadata": {},
     "output_type": "execute_result"
    }
   ],
   "source": [
    "from course import get"
   ]
  },
  {
   "cell_type": "code",
   "execution_count": null,
   "metadata": {},
   "outputs": [],
   "source": [
    "get.faculties()"
   ]
  },
  {
   "cell_type": "code",
   "execution_count": 2,
   "metadata": {},
   "outputs": [
    {
     "data": {
      "text/plain": [
       "['AVIA',\n",
       " 'BIOL',\n",
       " 'CHEM',\n",
       " 'EARTH',\n",
       " 'MNS',\n",
       " 'OPTOM',\n",
       " 'PHARM',\n",
       " 'PHYS',\n",
       " 'PDPHRM',\n",
       " 'SCI',\n",
       " 'SCBUS']"
      ]
     },
     "execution_count": 2,
     "metadata": {},
     "output_type": "execute_result"
    }
   ],
   "source": [
    "get.programs(faculty='science')"
   ]
  },
  {
   "cell_type": "code",
   "execution_count": 3,
   "metadata": {},
   "outputs": [
    {
     "data": {
      "text/plain": [
       "['SCBUS122',\n",
       " 'SCBUS123',\n",
       " 'SCBUS223',\n",
       " 'SCBUS225',\n",
       " 'SCBUS323',\n",
       " 'SCBUS423',\n",
       " 'SCBUS424',\n",
       " 'SCBUS425']"
      ]
     },
     "execution_count": 3,
     "metadata": {},
     "output_type": "execute_result"
    }
   ],
   "source": [
    "get.courses(program='scbus')"
   ]
  },
  {
   "cell_type": "code",
   "execution_count": 4,
   "metadata": {},
   "outputs": [
    {
     "name": "stdout",
     "output_type": "stream",
     "text": [
      "\u001b[0;32m[SCBUS122]\tFound\u001b[0m\n",
      "\u001b[0;32m[SCBUS123]\tFound\u001b[0m\n",
      "\u001b[0;32m[SCBUS223]\tFound\u001b[0m\n",
      "\u001b[0;32m[SCBUS225]\tFound\u001b[0m\n",
      "\u001b[0;32m[SCBUS323]\tFound\u001b[0m\n",
      "\u001b[0;32m[SCBUS423]\tFound\u001b[0m\n",
      "\u001b[0;32m[SCBUS424]\tFound\u001b[0m\n",
      "\u001b[0;32m[SCBUS425]\tFound\u001b[0m\n"
     ]
    },
    {
     "data": {
      "text/html": [
       "<div>\n",
       "<style scoped>\n",
       "    .dataframe tbody tr th:only-of-type {\n",
       "        vertical-align: middle;\n",
       "    }\n",
       "\n",
       "    .dataframe tbody tr th {\n",
       "        vertical-align: top;\n",
       "    }\n",
       "\n",
       "    .dataframe thead th {\n",
       "        text-align: right;\n",
       "    }\n",
       "</style>\n",
       "<table border=\"1\" class=\"dataframe\">\n",
       "  <thead>\n",
       "    <tr style=\"text-align: right;\">\n",
       "      <th></th>\n",
       "      <th>liked</th>\n",
       "      <th>easy</th>\n",
       "      <th>useful</th>\n",
       "      <th>rated</th>\n",
       "      <th>comments</th>\n",
       "      <th>name</th>\n",
       "      <th>description</th>\n",
       "    </tr>\n",
       "    <tr>\n",
       "      <th>code</th>\n",
       "      <th></th>\n",
       "      <th></th>\n",
       "      <th></th>\n",
       "      <th></th>\n",
       "      <th></th>\n",
       "      <th></th>\n",
       "      <th></th>\n",
       "    </tr>\n",
       "  </thead>\n",
       "  <tbody>\n",
       "    <tr>\n",
       "      <th>scbus122</th>\n",
       "      <td>0.70</td>\n",
       "      <td>0.93</td>\n",
       "      <td>0.71</td>\n",
       "      <td>23</td>\n",
       "      <td>1</td>\n",
       "      <td>Management of Business Organizations</td>\n",
       "      <td>This course uses case studies, project managem...</td>\n",
       "    </tr>\n",
       "    <tr>\n",
       "      <th>scbus123</th>\n",
       "      <td>0.80</td>\n",
       "      <td>0.78</td>\n",
       "      <td>0.78</td>\n",
       "      <td>40</td>\n",
       "      <td>8</td>\n",
       "      <td>Workshop 1: Science and Business</td>\n",
       "      <td>This workshop addresses concepts of technology...</td>\n",
       "    </tr>\n",
       "    <tr>\n",
       "      <th>scbus223</th>\n",
       "      <td>0.81</td>\n",
       "      <td>0.78</td>\n",
       "      <td>0.80</td>\n",
       "      <td>21</td>\n",
       "      <td>1</td>\n",
       "      <td>Workshop 2: Strategies Behind Technological In...</td>\n",
       "      <td>This workshop is organized as a strategic mana...</td>\n",
       "    </tr>\n",
       "    <tr>\n",
       "      <th>scbus225</th>\n",
       "      <td>0.42</td>\n",
       "      <td>0.69</td>\n",
       "      <td>0.21</td>\n",
       "      <td>19</td>\n",
       "      <td>4</td>\n",
       "      <td>Organizational Behaviour in Scientific and Tec...</td>\n",
       "      <td>This workshop uses case studies, lectures, and...</td>\n",
       "    </tr>\n",
       "    <tr>\n",
       "      <th>scbus323</th>\n",
       "      <td>0.60</td>\n",
       "      <td>0.36</td>\n",
       "      <td>0.45</td>\n",
       "      <td>15</td>\n",
       "      <td>3</td>\n",
       "      <td>Workshop 3: Technology Development</td>\n",
       "      <td>A senior honours project focusing on technolog...</td>\n",
       "    </tr>\n",
       "    <tr>\n",
       "      <th>scbus423</th>\n",
       "      <td>0.29</td>\n",
       "      <td>0.50</td>\n",
       "      <td>0.00</td>\n",
       "      <td>7</td>\n",
       "      <td>1</td>\n",
       "      <td>Workshop 4: Strategic Management of Science an...</td>\n",
       "      <td>Current real-world issues and problems in the ...</td>\n",
       "    </tr>\n",
       "    <tr>\n",
       "      <th>scbus424</th>\n",
       "      <td>NaN</td>\n",
       "      <td>NaN</td>\n",
       "      <td>NaN</td>\n",
       "      <td>0</td>\n",
       "      <td>0</td>\n",
       "      <td>Workshop 5: Special Topics in Science and Busi...</td>\n",
       "      <td>This capstone-project workshop addresses the f...</td>\n",
       "    </tr>\n",
       "    <tr>\n",
       "      <th>scbus425</th>\n",
       "      <td>NaN</td>\n",
       "      <td>NaN</td>\n",
       "      <td>NaN</td>\n",
       "      <td>0</td>\n",
       "      <td>0</td>\n",
       "      <td>Workshop 6: Challenges in Globalizing Science ...</td>\n",
       "      <td>This workshop addresses the implications for C...</td>\n",
       "    </tr>\n",
       "  </tbody>\n",
       "</table>\n",
       "</div>"
      ],
      "text/plain": [
       "          liked  easy  useful  rated  comments  \\\n",
       "code                                             \n",
       "scbus122   0.70  0.93    0.71     23         1   \n",
       "scbus123   0.80  0.78    0.78     40         8   \n",
       "scbus223   0.81  0.78    0.80     21         1   \n",
       "scbus225   0.42  0.69    0.21     19         4   \n",
       "scbus323   0.60  0.36    0.45     15         3   \n",
       "scbus423   0.29  0.50    0.00      7         1   \n",
       "scbus424    NaN   NaN     NaN      0         0   \n",
       "scbus425    NaN   NaN     NaN      0         0   \n",
       "\n",
       "                                                       name  \\\n",
       "code                                                          \n",
       "scbus122               Management of Business Organizations   \n",
       "scbus123                   Workshop 1: Science and Business   \n",
       "scbus223  Workshop 2: Strategies Behind Technological In...   \n",
       "scbus225  Organizational Behaviour in Scientific and Tec...   \n",
       "scbus323                 Workshop 3: Technology Development   \n",
       "scbus423  Workshop 4: Strategic Management of Science an...   \n",
       "scbus424  Workshop 5: Special Topics in Science and Busi...   \n",
       "scbus425  Workshop 6: Challenges in Globalizing Science ...   \n",
       "\n",
       "                                                description  \n",
       "code                                                         \n",
       "scbus122  This course uses case studies, project managem...  \n",
       "scbus123  This workshop addresses concepts of technology...  \n",
       "scbus223  This workshop is organized as a strategic mana...  \n",
       "scbus225  This workshop uses case studies, lectures, and...  \n",
       "scbus323  A senior honours project focusing on technolog...  \n",
       "scbus423  Current real-world issues and problems in the ...  \n",
       "scbus424  This capstone-project workshop addresses the f...  \n",
       "scbus425  This workshop addresses the implications for C...  "
      ]
     },
     "execution_count": 4,
     "metadata": {},
     "output_type": "execute_result"
    }
   ],
   "source": [
    "get.details(course='scbus')"
   ]
  },
  {
   "cell_type": "code",
   "execution_count": 7,
   "metadata": {},
   "outputs": [
    {
     "name": "stdout",
     "output_type": "stream",
     "text": [
      "\u001b[0;32m[ECE150]\tFound\u001b[0m\n",
      "\u001b[0;32m[ECE250]\tFound\u001b[0m\n"
     ]
    },
    {
     "data": {
      "text/html": [
       "<div>\n",
       "<style scoped>\n",
       "    .dataframe tbody tr th:only-of-type {\n",
       "        vertical-align: middle;\n",
       "    }\n",
       "\n",
       "    .dataframe tbody tr th {\n",
       "        vertical-align: top;\n",
       "    }\n",
       "\n",
       "    .dataframe thead th {\n",
       "        text-align: right;\n",
       "    }\n",
       "</style>\n",
       "<table border=\"1\" class=\"dataframe\">\n",
       "  <thead>\n",
       "    <tr style=\"text-align: right;\">\n",
       "      <th></th>\n",
       "      <th>liked</th>\n",
       "      <th>easy</th>\n",
       "      <th>useful</th>\n",
       "      <th>rated</th>\n",
       "      <th>comments</th>\n",
       "      <th>name</th>\n",
       "      <th>description</th>\n",
       "    </tr>\n",
       "    <tr>\n",
       "      <th>code</th>\n",
       "      <th></th>\n",
       "      <th></th>\n",
       "      <th></th>\n",
       "      <th></th>\n",
       "      <th></th>\n",
       "      <th></th>\n",
       "      <th></th>\n",
       "    </tr>\n",
       "  </thead>\n",
       "  <tbody>\n",
       "    <tr>\n",
       "      <th>ece150</th>\n",
       "      <td>0.78</td>\n",
       "      <td>0.70</td>\n",
       "      <td>0.87</td>\n",
       "      <td>324</td>\n",
       "      <td>42</td>\n",
       "      <td>Fundamentals of Programming</td>\n",
       "      <td>Software design process in a high-level progra...</td>\n",
       "    </tr>\n",
       "    <tr>\n",
       "      <th>ece250</th>\n",
       "      <td>0.82</td>\n",
       "      <td>0.54</td>\n",
       "      <td>0.97</td>\n",
       "      <td>170</td>\n",
       "      <td>25</td>\n",
       "      <td>Algorithms and Data Structures</td>\n",
       "      <td>Data structures, abstract data types, recursiv...</td>\n",
       "    </tr>\n",
       "  </tbody>\n",
       "</table>\n",
       "</div>"
      ],
      "text/plain": [
       "        liked  easy  useful  rated  comments                            name  \\\n",
       "code                                                                           \n",
       "ece150   0.78  0.70    0.87    324        42     Fundamentals of Programming   \n",
       "ece250   0.82  0.54    0.97    170        25  Algorithms and Data Structures   \n",
       "\n",
       "                                              description  \n",
       "code                                                       \n",
       "ece150  Software design process in a high-level progra...  \n",
       "ece250  Data structures, abstract data types, recursiv...  "
      ]
     },
     "execution_count": 7,
     "metadata": {},
     "output_type": "execute_result"
    }
   ],
   "source": [
    "get.details(course=['ECE150', 'ECE250'])"
   ]
  }
 ],
 "metadata": {
  "kernelspec": {
   "display_name": "Python 3",
   "language": "python",
   "name": "python3"
  },
  "language_info": {
   "codemirror_mode": {
    "name": "ipython",
    "version": 3
   },
   "file_extension": ".py",
   "mimetype": "text/x-python",
   "name": "python",
   "nbconvert_exporter": "python",
   "pygments_lexer": "ipython3",
   "version": "3.11.6"
  }
 },
 "nbformat": 4,
 "nbformat_minor": 2
}
