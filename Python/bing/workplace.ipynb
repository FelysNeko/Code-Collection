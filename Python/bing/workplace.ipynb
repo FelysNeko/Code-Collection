{
 "cells": [
  {
   "cell_type": "code",
   "execution_count": null,
   "metadata": {},
   "outputs": [],
   "source": [
    "import cv2\n",
    "import os\n",
    "import numpy as np\n",
    "import pandas as pd\n",
    "from skimage.feature import hog\n",
    "import matplotlib.pyplot as plt"
   ]
  },
  {
   "cell_type": "code",
   "execution_count": null,
   "metadata": {},
   "outputs": [],
   "source": [
    "cohis = 8\n",
    "grhis = 24"
   ]
  },
  {
   "cell_type": "code",
   "execution_count": null,
   "metadata": {},
   "outputs": [],
   "source": [
    "def read(name):\n",
    "    image = cv2.imread(name)\n",
    "    b,g,r = cv2.split(image)\n",
    "    gray = cv2.cvtColor(cv2.resize(image, (100,100)), cv2.COLOR_RGB2GRAY)\n",
    "    \n",
    "    histogram = np.concatenate([np.histogram(i, bins=cohis, range=(0,256))[0] for i in [b,g,r]])\n",
    "    full = hog(gray, orientations=grhis, pixels_per_cell=(10,10), cells_per_block=(1,1))\n",
    "    gradient = full.reshape(100, grhis).sum(0)\n",
    "    return np.concatenate([histogram, gradient])\n",
    "\n",
    "def load(folder):\n",
    "    directory = os.listdir(folder)\n",
    "    if '.DS_Store' in directory:\n",
    "        directory.remove('.DS_Store')\n",
    "    df = pd.DataFrame(data=[read(f'{folder}/{each}') for each in directory])\n",
    "    df.loc[:, 'type'] = folder\n",
    "    return df"
   ]
  },
  {
   "cell_type": "code",
   "execution_count": null,
   "metadata": {},
   "outputs": [],
   "source": [
    "from sklearn.utils import shuffle\n",
    "nature = load('nature')\n",
    "city = load('city')\n",
    "data = shuffle(pd.concat([i.sample(550) for i in [city, nature]]))"
   ]
  },
  {
   "cell_type": "code",
   "execution_count": null,
   "metadata": {},
   "outputs": [],
   "source": [
    "from sklearn.preprocessing import LabelEncoder\n",
    "enc = LabelEncoder()\n",
    "y = enc.fit_transform(data.loc[:, 'type'])"
   ]
  },
  {
   "cell_type": "code",
   "execution_count": null,
   "metadata": {},
   "outputs": [],
   "source": [
    "from sklearn.preprocessing import StandardScaler\n",
    "scl = StandardScaler()\n",
    "x = scl.fit_transform(data.iloc[:, :-1])"
   ]
  },
  {
   "cell_type": "code",
   "execution_count": null,
   "metadata": {},
   "outputs": [],
   "source": [
    "from sklearn.model_selection import train_test_split\n",
    "x_train,x_test,y_train,y_test = train_test_split(x, y, test_size=0.1)"
   ]
  },
  {
   "cell_type": "code",
   "execution_count": null,
   "metadata": {},
   "outputs": [],
   "source": [
    "from sklearn.svm import SVC\n",
    "lab = SVC(C=1.5)\n",
    "lab.fit(x_train, y_train)\n",
    "lab.score(x_test, y_test)"
   ]
  },
  {
   "cell_type": "code",
   "execution_count": null,
   "metadata": {},
   "outputs": [],
   "source": [
    "test = read('city.jpg') # change the image name\n",
    "result = lab.predict(scl.transform([test]))[0]\n",
    "enc.inverse_transform([result])[0]"
   ]
  }
 ],
 "metadata": {
  "kernelspec": {
   "display_name": "Python 3",
   "language": "python",
   "name": "python3"
  },
  "language_info": {
   "codemirror_mode": {
    "name": "ipython",
    "version": 3
   },
   "file_extension": ".py",
   "mimetype": "text/x-python",
   "name": "python",
   "nbconvert_exporter": "python",
   "pygments_lexer": "ipython3",
   "version": "3.11.6"
  }
 },
 "nbformat": 4,
 "nbformat_minor": 2
}
